{
 "cells": [
  {
   "cell_type": "markdown",
   "metadata": {},
   "source": [
    "# Comparison solidian tool through GCS - General Cross-Section method\n",
    "\n"
   ]
  },
  {
   "cell_type": "code",
   "execution_count": 23,
   "metadata": {},
   "outputs": [],
   "source": [
    "%matplotlib widget\n",
    "# %matplotlib qt"
   ]
  },
  {
   "cell_type": "code",
   "execution_count": 24,
   "metadata": {},
   "outputs": [],
   "source": [
    "from bmcs_cross_section.api import MKappa, TShape, EC2, BarLayer, ReinfLayer, FabricLayer\n",
    "from bmcs_beam.api import BoundaryConditions, BoundaryConfig, DeflectionProfile, BeamDesign, LoadDeflectionParamsStudy\n",
    "from os.path import join\n",
    "import numpy as np\n",
    "import pandas as pd\n",
    "import sympy as sp\n",
    "import matplotlib.pyplot as plt\n",
    "import bmcs_utils.api as bu"
   ]
  },
  {
   "cell_type": "code",
   "execution_count": 30,
   "metadata": {},
   "outputs": [
    {
     "name": "stdout",
     "output_type": "stream",
     "text": [
      "Execute 2\n",
      " f_ck:55.00\n",
      " f_cd:31.17\n",
      " E_cm:38214.21\n",
      " eps_cr:0.000229\n",
      " eps_cy:0.002199\n",
      " eps_cu:0.003125\n",
      "Moment capacity: 44.33207269447579\n"
     ]
    },
    {
     "data": {
      "application/vnd.jupyter.widget-view+json": {
       "model_id": "0aa0570e43624fa49059a8ef20f3cb00",
       "version_major": 2,
       "version_minor": 0
      },
      "text/plain": [
       "Output()"
      ]
     },
     "metadata": {},
     "output_type": "display_data"
    },
    {
     "data": {
      "application/vnd.jupyter.widget-view+json": {
       "model_id": "5c00ab49b61c451a8123e1af103c49de",
       "version_major": 2,
       "version_minor": 0
      },
      "text/plain": [
       "VBox(children=(HBox(children=(VBox(children=(Tree(layout=Layout(align_items='stretch', border_bottom='solid 1p…"
      ]
     },
     "metadata": {},
     "output_type": "display_data"
    }
   ],
   "source": [
    "# Beam B-M-C-K1 - CFRP Bars\n",
    "\n",
    "def get_dp(f_ck = None, E=None, low_kappa = None, high_kappa = None, n_kappa=None, n_load_steps=None, eps_tu=None):\n",
    "    if eps_tu is None:\n",
    "        eps_tu = 0.00008\n",
    "    \n",
    "    if n_load_steps is None:\n",
    "        n_load_steps = 100\n",
    "          \n",
    "    if high_kappa is None:\n",
    "        high_kappa = 0.00011\n",
    "        \n",
    "    if n_kappa is None:\n",
    "        n_kappa = 200\n",
    "        \n",
    "    if low_kappa is None:\n",
    "        low_kappa = 0\n",
    "        \n",
    "    mc = MKappa(low_kappa = low_kappa, high_kappa = high_kappa, n_kappa = n_kappa)\n",
    "\n",
    "    print('Execute 2')\n",
    "    f_ck = 55\n",
    "    f_cd = EC2.get_f_cd(f_ck)\n",
    "    E_cm = EC2.get_E_cm(f_ck)\n",
    "    eps_cr = 0.000125 * f_ck/30\n",
    "    eps_cy = EC2.get_eps_c2(f_ck),\n",
    "    eps_cu = EC2.get_eps_cu2(f_ck),\n",
    "\n",
    "\n",
    "    # mc.cs_design.matrix='EC2 with plateau'\n",
    "    mc.cs_design.matrix.trait_set(\n",
    "            E_cc=E_cm,\n",
    "            E_ct=E_cm,\n",
    "            eps_cr=eps_cr, #0.000125 * f_ck/30, # f_ctm /E,\n",
    "            eps_cy=eps_cy,\n",
    "            eps_cu=eps_cu,\n",
    "            eps_tu=eps_tu,\n",
    "            mu=0.0,\n",
    "            f_cd = f_cd, # f_ck * 0.85/1.5\n",
    "            factor = 1\n",
    "        )\n",
    "    print(f' f_ck:{f_ck:.2f}')\n",
    "    print(f' f_cd:{f_cd:.2f}')\n",
    "    print(f' E_cm:{E_cm:.2f}')\n",
    "    print(f' eps_cr:{eps_cr:.6f}')\n",
    "    print(f' eps_cy:{eps_cy[0]:.6f}')\n",
    "    print(f' eps_cu:{eps_cu[0]:.6f}')\n",
    "\n",
    "    b = 300\n",
    "    h = 500\n",
    "    \n",
    "    mc.cross_section_shape_.B = b\n",
    "    mc.cross_section_shape_.H = h\n",
    "\n",
    "    \n",
    "    bl1 = ReinfLayer(name='carbon', z=30, A=69.6, matmod='carbon')\n",
    "    bl1.matmod_.trait_set(E=100000, f_t=766)\n",
    "    mc.cross_section_layout.add_layer(bl1)\n",
    "    print(f'Moment capacity: {(mc.M_t.max())/1e6}')\n",
    "\n",
    "    dp = DeflectionProfile(mc=mc, n_load_steps = n_load_steps)\n",
    "\n",
    "\n",
    "    dp.beam_design.beam_conf_name = BoundaryConfig.FOUR_PB\n",
    "    dp.beam_design.beam_conf_name.first_load_distance = 1925\n",
    "    dp.beam_design.L = 4700\n",
    "    # dp.beam_design.L = 5000 # This gives perfect results\n",
    "    dp.F_scale = 2/1000\n",
    "\n",
    "    return mc\n",
    "\n",
    "get_dp().interact()"
   ]
  },
  {
   "cell_type": "code",
   "execution_count": 26,
   "metadata": {},
   "outputs": [
    {
     "name": "stdout",
     "output_type": "stream",
     "text": [
      "Execute 2\n",
      " f_ck:55.00\n",
      " f_cd:31.17\n",
      " E_cm:38214.21\n",
      " eps_cr:0.000229\n",
      " eps_cy:0.002199\n",
      " eps_cu:0.003125\n",
      "Moment capacity: 44.43098740640945\n"
     ]
    },
    {
     "ename": "AttributeError",
     "evalue": "'MKappa' object has no attribute 'mc'",
     "output_type": "error",
     "traceback": [
      "\u001b[1;31m---------------------------------------------------------------------------\u001b[0m",
      "\u001b[1;31mAttributeError\u001b[0m                            Traceback (most recent call last)",
      "Cell \u001b[1;32mIn[26], line 2\u001b[0m\n\u001b[0;32m      1\u001b[0m dp \u001b[38;5;241m=\u001b[39m get_dp()\n\u001b[1;32m----> 2\u001b[0m empty \u001b[38;5;241m=\u001b[39m \u001b[43mdp\u001b[49m\u001b[38;5;241;43m.\u001b[39;49m\u001b[43mmc\u001b[49m\u001b[38;5;241m.\u001b[39mkappa_t[np\u001b[38;5;241m.\u001b[39mwhere(dp\u001b[38;5;241m.\u001b[39mmc\u001b[38;5;241m.\u001b[39mkappa_t \u001b[38;5;241m<\u001b[39m \u001b[38;5;241m0\u001b[39m)]\n",
      "\u001b[1;31mAttributeError\u001b[0m: 'MKappa' object has no attribute 'mc'"
     ]
    }
   ],
   "source": [
    "dp = get_dp()\n",
    "empty = dp.mc.kappa_t[np.where(dp.mc.kappa_t < 0)]"
   ]
  },
  {
   "cell_type": "code",
   "execution_count": null,
   "metadata": {},
   "outputs": [
    {
     "ename": "NameError",
     "evalue": "name 'mc' is not defined",
     "output_type": "error",
     "traceback": [
      "\u001b[1;31m---------------------------------------------------------------------------\u001b[0m",
      "\u001b[1;31mNameError\u001b[0m                                 Traceback (most recent call last)",
      "Cell \u001b[1;32mIn[40], line 1\u001b[0m\n\u001b[1;32m----> 1\u001b[0m \u001b[38;5;28mprint\u001b[39m((\u001b[43mmc\u001b[49m\u001b[38;5;241m.\u001b[39mM_c_t\u001b[38;5;241m.\u001b[39mmin())\u001b[38;5;241m/\u001b[39m\u001b[38;5;241m1e6\u001b[39m)\n",
      "\u001b[1;31mNameError\u001b[0m: name 'mc' is not defined"
     ]
    }
   ],
   "source": [
    " print((mc.M_c_t.min())/1e6)"
   ]
  },
  {
   "cell_type": "code",
   "execution_count": null,
   "metadata": {},
   "outputs": [
    {
     "data": {
      "text/plain": [
       "array([0.000e+00, 2.063e-07, 4.125e-07, 6.188e-07, 8.250e-07, 1.031e-06,\n",
       "       1.238e-06, 1.444e-06, 1.650e-06, 1.856e-06, 2.063e-06, 2.269e-06,\n",
       "       2.475e-06, 2.681e-06, 2.888e-06, 3.094e-06, 3.300e-06, 3.506e-06,\n",
       "       3.713e-06, 3.919e-06, 4.125e-06, 4.331e-06, 4.538e-06, 4.744e-06,\n",
       "       4.950e-06, 5.156e-06, 5.362e-06, 5.569e-06, 5.775e-06, 5.981e-06,\n",
       "       6.188e-06, 6.394e-06, 6.600e-06, 6.806e-06, 7.013e-06, 7.219e-06,\n",
       "       7.425e-06, 7.631e-06, 7.838e-06, 8.044e-06, 8.250e-06, 8.456e-06,\n",
       "       8.663e-06, 8.869e-06, 9.075e-06, 9.281e-06, 9.488e-06, 9.694e-06,\n",
       "       9.900e-06, 1.011e-05, 1.031e-05, 1.052e-05, 1.072e-05, 1.093e-05,\n",
       "       1.114e-05, 1.134e-05, 1.155e-05, 1.176e-05, 1.196e-05, 1.217e-05,\n",
       "       1.238e-05, 1.258e-05, 1.279e-05, 1.299e-05, 1.320e-05, 1.341e-05,\n",
       "       1.361e-05, 1.382e-05, 1.403e-05, 1.423e-05, 1.444e-05, 1.464e-05,\n",
       "       1.485e-05, 1.506e-05, 1.526e-05, 1.547e-05, 1.568e-05, 1.588e-05,\n",
       "       1.609e-05, 1.629e-05, 1.650e-05, 1.729e-05, 1.807e-05, 1.886e-05,\n",
       "       1.964e-05, 2.043e-05, 2.121e-05, 2.200e-05, 2.279e-05, 2.357e-05,\n",
       "       2.436e-05, 2.514e-05, 2.593e-05, 2.671e-05, 2.750e-05, 2.829e-05,\n",
       "       2.907e-05, 2.986e-05, 3.064e-05, 3.143e-05, 3.221e-05, 3.300e-05,\n",
       "       3.379e-05, 3.457e-05, 3.536e-05, 3.614e-05, 3.693e-05, 3.771e-05,\n",
       "       3.850e-05, 3.929e-05, 4.007e-05, 4.086e-05, 4.164e-05, 4.243e-05,\n",
       "       4.321e-05, 4.400e-05, 4.479e-05, 4.557e-05, 4.636e-05, 4.714e-05,\n",
       "       4.793e-05, 4.871e-05, 4.950e-05, 5.029e-05, 5.107e-05, 5.186e-05,\n",
       "       5.264e-05, 5.343e-05, 5.421e-05, 5.500e-05, 5.579e-05, 5.657e-05,\n",
       "       5.736e-05, 5.814e-05, 5.893e-05, 5.971e-05, 6.050e-05, 6.129e-05,\n",
       "       6.207e-05, 6.286e-05, 6.364e-05, 6.443e-05, 6.521e-05, 6.600e-05,\n",
       "       6.679e-05, 6.757e-05, 6.836e-05, 6.914e-05, 6.993e-05, 7.071e-05,\n",
       "       7.150e-05, 7.229e-05, 7.307e-05, 7.386e-05, 7.464e-05, 7.543e-05,\n",
       "       7.621e-05, 7.700e-05, 7.779e-05, 7.857e-05, 7.936e-05, 8.014e-05,\n",
       "       8.093e-05, 8.171e-05, 8.250e-05, 8.329e-05, 8.407e-05, 8.486e-05,\n",
       "       8.564e-05, 8.643e-05, 8.721e-05, 8.800e-05, 8.879e-05, 8.957e-05,\n",
       "       9.036e-05, 9.114e-05, 9.193e-05, 9.271e-05, 9.350e-05, 9.429e-05,\n",
       "       9.507e-05, 9.586e-05, 9.664e-05, 9.743e-05, 9.821e-05, 9.900e-05,\n",
       "       9.979e-05, 1.006e-04, 1.014e-04, 1.021e-04, 1.029e-04, 1.037e-04,\n",
       "       1.045e-04, 1.053e-04, 1.061e-04, 1.069e-04, 1.076e-04, 1.084e-04,\n",
       "       1.092e-04, 1.100e-04])"
      ]
     },
     "execution_count": 27,
     "metadata": {},
     "output_type": "execute_result"
    }
   ],
   "source": [
    "dp.mc.kappa_t"
   ]
  }
 ],
 "metadata": {
  "kernelspec": {
   "display_name": "Python 3 (ipykernel)",
   "language": "python",
   "name": "python3"
  },
  "language_info": {
   "codemirror_mode": {
    "name": "ipython",
    "version": 3
   },
   "file_extension": ".py",
   "mimetype": "text/x-python",
   "name": "python",
   "nbconvert_exporter": "python",
   "pygments_lexer": "ipython3",
   "version": "3.12.3"
  }
 },
 "nbformat": 4,
 "nbformat_minor": 4
}
