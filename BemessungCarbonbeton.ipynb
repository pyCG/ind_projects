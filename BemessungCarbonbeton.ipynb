{
 "cells": [
  {
   "cell_type": "code",
   "execution_count": null,
   "metadata": {},
   "outputs": [],
   "source": [
    "%matplotlib widget\n",
    "from bmcs_cross_section.api import MKappa, ReinfLayer\n",
    "from bmcs_beam.api import DeflectionProfile"
   ]
  },
  {
   "cell_type": "code",
   "execution_count": null,
   "metadata": {},
   "outputs": [],
   "source": [
    "mc = MKappa(high_kappa = 0.000032)\n",
    "\n",
    "# Adding reinforcement layers\n",
    "bl2 = ReinfLayer(name = 'carbon', z=30, A=4.4, matmod='carbon')\n",
    "bl2.matmod_.trait_set(E=102000, f_t=1250)\n",
    "mc.cross_section_layout.add_layer(bl2)\n",
    "\n",
    "# Setting other cross−section parameters\n",
    "mc.cs_design.matrix_.trait_set(f_cm = 48)\n",
    "mc.cross_section_shape_.B = 200\n",
    "mc.cross_section_shape_.H = 600\n",
    "\n",
    "dp = DeflectionProfile(mc=mc)\n",
    "dp.interact()"
   ]
  },
  {
   "cell_type": "code",
   "execution_count": null,
   "metadata": {},
   "outputs": [],
   "source": [
    " print((mc.M_c_t.min())/1e6)"
   ]
  }
 ],
 "metadata": {
  "language_info": {
   "name": "python"
  }
 },
 "nbformat": 4,
 "nbformat_minor": 2
}
